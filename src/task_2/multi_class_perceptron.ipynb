{
 "cells": [
  {
   "metadata": {
    "collapsed": true
   },
   "cell_type": "markdown",
   "source": [
    "Task 2: Implement a multi-class perceptron algorithm\n",
    "Implement (from scratch) a multi-class perceptron training algorithm. Essentially, a multi-class perceptron\n",
    "represents 10 independent linear classifiers that will each try to predict whether a digit belongs to a particular\n",
    "class. The weight update rules can be found in Chapter 6.1 of Understanding Deep Learning textbook.\n",
    "Specifically, refer to equations 6.3 and 6.7"
   ],
   "id": "b79d179449320512"
  },
  {
   "metadata": {
    "ExecuteTime": {
     "end_time": "2025-09-25T18:31:28.126259Z",
     "start_time": "2025-09-25T18:31:26.723906Z"
    }
   },
   "cell_type": "code",
   "source": [
    "from threading import activeCount\n",
    "\n",
    "# Import packages\n",
    "\n",
    "import numpy as np\n",
    "import pandas as pd"
   ],
   "id": "7b5fcd572fa7ce4a",
   "outputs": [],
   "execution_count": 1
  },
  {
   "metadata": {
    "ExecuteTime": {
     "end_time": "2025-09-25T18:31:28.295052Z",
     "start_time": "2025-09-25T18:31:28.138043Z"
    }
   },
   "cell_type": "code",
   "source": [
    "# Load in data\n",
    "\n",
    "train_in = pd.read_csv(\"../../data/train_in.csv\", header=None).T\n",
    "test_in = pd.read_csv(\"../../data/test_in.csv\", header=None)\n",
    "train_out = pd.read_csv(\"../../data/train_out.csv\", header=None).T\n",
    "test_out = pd.read_csv(\"../../data/test_out.csv\", header=None)"
   ],
   "id": "c619cb2f056f4f5d",
   "outputs": [],
   "execution_count": 2
  },
  {
   "metadata": {
    "ExecuteTime": {
     "end_time": "2025-09-25T18:30:34.325052Z",
     "start_time": "2025-09-25T18:30:34.310779Z"
    }
   },
   "cell_type": "code",
   "source": [
    "# Activation function\n",
    "\n",
    "combined = {}\n",
    "\n",
    "def ReLu(x):\n",
    "    return np.where(x > 0, x, 0)\n",
    "\n",
    "def softmax(a):\n",
    "    return np.exp(a) / np.sum(np.exp(a))\n",
    "\n",
    "train_in.shape\n",
    "# To create a matrix where each digit contains all the digit's matrices\n",
    "# for matrix, digit in zip(train_in.values, train_out.values.ravel()):\n",
    "#     combined.setdefault(digit, []).append(matrix)"
   ],
   "id": "b32c77ea954cd4d9",
   "outputs": [
    {
     "data": {
      "text/plain": [
       "(256, 1707)"
      ]
     },
     "execution_count": 3,
     "metadata": {},
     "output_type": "execute_result"
    }
   ],
   "execution_count": 3
  },
  {
   "metadata": {
    "ExecuteTime": {
     "end_time": "2025-09-25T18:31:28.356614Z",
     "start_time": "2025-09-25T18:31:28.344458Z"
    }
   },
   "cell_type": "code",
   "source": [
    "class Perceptron():\n",
    "    def __init__(self, lr=0.05, iterations=10):\n",
    "        self.lr = lr\n",
    "        self.iterations = iterations\n",
    "        # self.activation_func = ReLu\n",
    "        self.activation = None\n",
    "        self.weights = None\n",
    "        self.bias = None\n",
    "\n",
    "    def fit(self, X, y):\n",
    "        n_features, n_samples = X.shape\n",
    "        print(f\"Interpreted as: {n_samples} samples, {n_features} features\")\n",
    "        n_classes = len(np.unique(y))\n",
    "        Y = np.zeros((n_samples, n_classes))\n",
    "        Y[np.arange(n_samples), y] = 1\n",
    "\n",
    "        print(X.shape)\n",
    "        if self.weights is None:\n",
    "            self.weights = np.random.randn(n_features, n_classes) * 0.01\n",
    "            self.bias = np.zeros(n_classes) * 0.01\n",
    "\n",
    "        for epoch in range(0, self.iterations):\n",
    "            epoch_loss = 0.0\n",
    "            # CHANGE 1: Replace enumerate(X) with range(n_samples)\n",
    "            for idx in range(n_samples):\n",
    "                y_true = Y[idx]\n",
    "                x_i = X[:, idx]\n",
    "                scores = np.dot(x_i, self.weights) + self.bias\n",
    "                error = scores - y_true\n",
    "                epoch_loss += 0.5 * np.sum(error**2)\n",
    "\n",
    "                weight_update = np.outer(x_i, error)\n",
    "                self.weights -= self.lr * weight_update\n",
    "                self.bias -= self.lr * error\n",
    "\n",
    "            if epoch % 10 == 0 or epoch == self.iterations-1:\n",
    "                preds = self.predict(X)\n",
    "                acc = np.mean(preds == y)\n",
    "                print(f\"Epoch {epoch+1}/{self.iterations} loss={epoch_loss:.4f} acc={acc:.4f}\")\n",
    "\n",
    "    def predict(self, X):\n",
    "        layer_1 = np.dot(X.T, self.weights) + self.bias\n",
    "        return np.argmax(layer_1, axis=1)"
   ],
   "id": "c7b4c349e0c4672f",
   "outputs": [],
   "execution_count": 3
  },
  {
   "metadata": {
    "ExecuteTime": {
     "end_time": "2025-09-25T18:32:06.124837Z",
     "start_time": "2025-09-25T18:31:57.809469Z"
    }
   },
   "cell_type": "code",
   "source": [
    "mlp = Perceptron(lr=0.0005, iterations=100)\n",
    "mlp.fit(train_in.values, train_out)\n"
   ],
   "id": "fbd22f2dd524bb74",
   "outputs": [
    {
     "name": "stdout",
     "output_type": "stream",
     "text": [
      "Interpreted as: 1707 samples, 256 features\n",
      "(256, 1707)\n",
      "Epoch 1/100 loss=372.5967 acc=0.8992\n",
      "Epoch 11/100 loss=232.0332 acc=0.9315\n",
      "Epoch 21/100 loss=222.6196 acc=0.9391\n",
      "Epoch 31/100 loss=218.0155 acc=0.9426\n",
      "Epoch 41/100 loss=215.2326 acc=0.9455\n",
      "Epoch 51/100 loss=213.3646 acc=0.9467\n",
      "Epoch 61/100 loss=212.0248 acc=0.9467\n",
      "Epoch 71/100 loss=211.0182 acc=0.9479\n",
      "Epoch 81/100 loss=210.2354 acc=0.9479\n",
      "Epoch 91/100 loss=209.6103 acc=0.9490\n",
      "Epoch 100/100 loss=209.1471 acc=0.9496\n"
     ]
    }
   ],
   "execution_count": 5
  }
 ],
 "metadata": {
  "kernelspec": {
   "display_name": "Python 3",
   "language": "python",
   "name": "python3"
  },
  "language_info": {
   "codemirror_mode": {
    "name": "ipython",
    "version": 2
   },
   "file_extension": ".py",
   "mimetype": "text/x-python",
   "name": "python",
   "nbconvert_exporter": "python",
   "pygments_lexer": "ipython2",
   "version": "2.7.6"
  }
 },
 "nbformat": 4,
 "nbformat_minor": 5
}
