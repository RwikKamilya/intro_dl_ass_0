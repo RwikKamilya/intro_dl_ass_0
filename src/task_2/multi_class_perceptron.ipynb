{
 "cells": [
  {
   "metadata": {
    "collapsed": true
   },
   "cell_type": "markdown",
   "source": [
    "Task 2: Implement a multi-class perceptron algorithm\n",
    "Implement (from scratch) a multi-class perceptron training algorithm. Essentially, a multi-class perceptron\n",
    "represents 10 independent linear classifiers that will each try to predict whether a digit belongs to a particular\n",
    "class. The weight update rules can be found in Chapter 6.1 of Understanding Deep Learning textbook.\n",
    "Specifically, refer to equations 6.3 and 6.7"
   ],
   "id": "b79d179449320512"
  },
  {
   "metadata": {
    "ExecuteTime": {
     "end_time": "2025-09-16T11:52:22.390041Z",
     "start_time": "2025-09-16T11:52:22.379351Z"
    }
   },
   "cell_type": "code",
   "source": [
    "from threading import activeCount\n",
    "\n",
    "# Import packages\n",
    "\n",
    "import numpy as np\n",
    "import pandas as pd"
   ],
   "id": "7b5fcd572fa7ce4a",
   "outputs": [],
   "execution_count": 6
  },
  {
   "metadata": {
    "ExecuteTime": {
     "end_time": "2025-09-16T11:52:23.451224Z",
     "start_time": "2025-09-16T11:52:23.259052Z"
    }
   },
   "cell_type": "code",
   "source": [
    "# Load in data\n",
    "\n",
    "train_in = pd.read_csv(\"../../data/train_in.csv\", header=None)\n",
    "test_in = pd.read_csv(\"../../data/test_in.csv\", header=None)\n",
    "train_out = pd.read_csv(\"../../data/train_out.csv\", header=None)\n",
    "test_out = pd.read_csv(\"../../data/test_out.csv\", header=None)"
   ],
   "id": "c619cb2f056f4f5d",
   "outputs": [],
   "execution_count": 7
  },
  {
   "metadata": {
    "ExecuteTime": {
     "end_time": "2025-09-16T11:52:25.843618Z",
     "start_time": "2025-09-16T11:52:25.839563Z"
    }
   },
   "cell_type": "code",
   "source": [
    "# Activation function\n",
    "\n",
    "def unit_step_func(x):\n",
    "    return np.where(x > 0, 1, 0)"
   ],
   "id": "b32c77ea954cd4d9",
   "outputs": [],
   "execution_count": 8
  },
  {
   "metadata": {
    "ExecuteTime": {
     "end_time": "2025-09-16T12:03:55.479946Z",
     "start_time": "2025-09-16T12:03:55.463623Z"
    }
   },
   "cell_type": "code",
   "source": [
    "# Perceptron class\n",
    "# Mostly copied from tutorial, we need to make this our own\n",
    "\n",
    "class Perceptron():\n",
    "    def __init__(self, lr=0.05,  iterations=10):\n",
    "        self.lr = lr\n",
    "        self.iterations = iterations\n",
    "        self.activation_func = unit_step_func\n",
    "        self.weights = None\n",
    "        self.bias = None\n",
    "\n",
    "    def fit(self, X, y):\n",
    "\n",
    "\n",
    "        # n_samples, n_features = X.shape\n",
    "        # self.weights = np.random.randn(n_features, 1)\n",
    "        # self.bias = np.random.rand()\n",
    "        #\n",
    "        # y_ = unit_step_func(X)\n",
    "        #\n",
    "        # for _ in range(0, self.iterations):\n",
    "        #     for idx, x_i in enumerate(X):\n",
    "        #         linear_output = np.dot(x_i, self.weights) + self.bias\n",
    "        #         y_pred = self.activation_func(linear_output)\n",
    "        #\n",
    "        #         update = self.lr * (y_pred - y_[idx])\n",
    "        #         self.weights = update * x_i\n",
    "        #         self.bias += update\n",
    "\n",
    "\n",
    "    def predict(self, X):\n",
    "        linear_output = np.dot(X, self.weights) + self.bias\n",
    "        y_pred = self.activation_func(linear_output)\n",
    "\n",
    "        return y_pred"
   ],
   "id": "7de378bfcbc31fc6",
   "outputs": [],
   "execution_count": 13
  },
  {
   "metadata": {
    "ExecuteTime": {
     "end_time": "2025-09-16T12:06:15.318279Z",
     "start_time": "2025-09-16T12:03:56.745969Z"
    }
   },
   "cell_type": "code",
   "source": [
    "#Test code\n",
    "\n"
   ],
   "id": "1cfd084d5985cdce",
   "outputs": [
    {
     "ename": "ValueError",
     "evalue": "operands could not be broadcast together with shapes (1000,256) (256,256) ",
     "output_type": "error",
     "traceback": [
      "\u001B[31m---------------------------------------------------------------------------\u001B[39m",
      "\u001B[31mValueError\u001B[39m                                Traceback (most recent call last)",
      "\u001B[36mCell\u001B[39m\u001B[36m \u001B[39m\u001B[32mIn[14]\u001B[39m\u001B[32m, line 5\u001B[39m\n\u001B[32m      3\u001B[39m pcpt = Perceptron()\n\u001B[32m      4\u001B[39m pcpt.fit(train_in, train_out)\n\u001B[32m----> \u001B[39m\u001B[32m5\u001B[39m \u001B[38;5;28mprint\u001B[39m(\u001B[43mpcpt\u001B[49m\u001B[43m.\u001B[49m\u001B[43mpredict\u001B[49m\u001B[43m(\u001B[49m\u001B[43mtest_in\u001B[49m\u001B[43m)\u001B[49m)\n",
      "\u001B[36mCell\u001B[39m\u001B[36m \u001B[39m\u001B[32mIn[13]\u001B[39m\u001B[32m, line 30\u001B[39m, in \u001B[36mPerceptron.predict\u001B[39m\u001B[34m(self, X)\u001B[39m\n\u001B[32m     29\u001B[39m \u001B[38;5;28;01mdef\u001B[39;00m\u001B[38;5;250m \u001B[39m\u001B[34mpredict\u001B[39m(\u001B[38;5;28mself\u001B[39m, X):\n\u001B[32m---> \u001B[39m\u001B[32m30\u001B[39m     linear_output = \u001B[43mnp\u001B[49m\u001B[43m.\u001B[49m\u001B[43mdot\u001B[49m\u001B[43m(\u001B[49m\u001B[43mX\u001B[49m\u001B[43m,\u001B[49m\u001B[43m \u001B[49m\u001B[38;5;28;43mself\u001B[39;49m\u001B[43m.\u001B[49m\u001B[43mweights\u001B[49m\u001B[43m)\u001B[49m\u001B[43m \u001B[49m\u001B[43m+\u001B[49m\u001B[43m \u001B[49m\u001B[38;5;28;43mself\u001B[39;49m\u001B[43m.\u001B[49m\u001B[43mbias\u001B[49m\n\u001B[32m     31\u001B[39m     y_pred = \u001B[38;5;28mself\u001B[39m.activation_func(linear_output)\n\u001B[32m     33\u001B[39m     \u001B[38;5;28;01mreturn\u001B[39;00m y_pred\n",
      "\u001B[31mValueError\u001B[39m: operands could not be broadcast together with shapes (1000,256) (256,256) "
     ]
    }
   ],
   "execution_count": 14
  },
  {
   "metadata": {},
   "cell_type": "code",
   "outputs": [],
   "execution_count": null,
   "source": "",
   "id": "c7b4c349e0c4672f"
  }
 ],
 "metadata": {
  "kernelspec": {
   "display_name": "Python 3",
   "language": "python",
   "name": "python3"
  },
  "language_info": {
   "codemirror_mode": {
    "name": "ipython",
    "version": 2
   },
   "file_extension": ".py",
   "mimetype": "text/x-python",
   "name": "python",
   "nbconvert_exporter": "python",
   "pygments_lexer": "ipython2",
   "version": "2.7.6"
  }
 },
 "nbformat": 4,
 "nbformat_minor": 5
}
