{
 "cells": [
  {
   "metadata": {
    "ExecuteTime": {
     "end_time": "2025-09-11T09:35:36.884695Z",
     "start_time": "2025-09-11T09:35:36.879578Z"
    }
   },
   "cell_type": "code",
   "source": [
    "# Assignment 0\n",
    "# Task 1"
   ],
   "id": "cc245fd31bb29bfc",
   "outputs": [],
   "execution_count": 226
  },
  {
   "metadata": {
    "collapsed": true,
    "ExecuteTime": {
     "end_time": "2025-09-11T09:39:45.058450Z",
     "start_time": "2025-09-11T09:39:45.052868Z"
    }
   },
   "cell_type": "code",
   "source": [
    "# Load packages\n",
    "\n",
    "import numpy as np\n",
    "import pandas as pd\n",
    "from matplotlib.pyplot import imshow\n",
    "import matplotlib.pyplot as plt"
   ],
   "id": "b411bf68f4373fc5",
   "outputs": [],
   "execution_count": 238
  },
  {
   "metadata": {
    "ExecuteTime": {
     "end_time": "2025-09-11T09:39:11.993383Z",
     "start_time": "2025-09-11T09:39:11.870270Z"
    }
   },
   "cell_type": "code",
   "source": [
    "# Load in data\n",
    "\n",
    "train_in = pd.read_csv(\"../data/train_in.csv\", header=None)\n",
    "test_in = pd.read_csv(\"../data/test_in.csv\", header=None)\n",
    "train_out = pd.read_csv(\"../data/train_out.csv\", header=None)\n",
    "test_out = pd.read_csv(\"../data/test_out.csv\", header=None)"
   ],
   "id": "9ff281e76316c2b0",
   "outputs": [],
   "execution_count": 237
  },
  {
   "metadata": {
    "ExecuteTime": {
     "end_time": "2025-09-11T09:36:42.646833Z",
     "start_time": "2025-09-11T09:36:42.628671Z"
    }
   },
   "cell_type": "code",
   "source": [
    "# Preprocess data\n",
    "\n",
    "combined = {}\n",
    "combined_avg = {}\n",
    "\n",
    "for matrix, digit in zip(train_in.values, train_out.values.ravel()):\n",
    "    combined.setdefault(digit, []).append(matrix)\n",
    "\n",
    "for digit in combined.keys():\n",
    "    average_matrix = np.array(combined[digit]).mean(axis=0)\n",
    "    df = pd.DataFrame(average_matrix.reshape(16,16))\n",
    "    combined_avg[int(digit)] = df\n",
    "combined_avg = dict(sorted(combined_avg.items()))"
   ],
   "id": "b744e47e820a5ba6",
   "outputs": [],
   "execution_count": 232
  },
  {
   "metadata": {
    "ExecuteTime": {
     "end_time": "2025-09-11T09:36:43.899281Z",
     "start_time": "2025-09-11T09:36:43.609068Z"
    }
   },
   "cell_type": "code",
   "source": [
    "# Visualize average matrix per digit\n",
    "\n",
    "fig, axes = plt.subplots(2, 5, figsize=(10, 5))\n",
    "axes = axes.flatten()\n",
    "for i, img in enumerate(combined_avg.values()):\n",
    "    axes[i].imshow(img, cmap='gray')\n",
    "    axes[i].axis('off')\n",
    "\n",
    "plt.tight_layout()\n",
    "plt.show()"
   ],
   "id": "3b069ccbb185cae9",
   "outputs": [
    {
     "data": {
      "text/plain": [
       "<Figure size 1000x500 with 10 Axes>"
      ],
      "image/png": "[encoded data removed]"
     },
     "metadata": {},
     "output_type": "display_data",
     "jetTransient": {
      "display_id": null
     }
    }
   ],
   "execution_count": 233
  },
  {
   "metadata": {
    "ExecuteTime": {
     "end_time": "2025-09-11T09:36:45.149808Z",
     "start_time": "2025-09-11T09:36:45.069987Z"
    }
   },
   "cell_type": "code",
   "source": [
    "# Calculate distances between centers\n",
    "\n",
    "dist_comp = pd.DataFrame(index=combined_avg.keys(), columns=combined_avg.keys())\n",
    "\n",
    "for digit1, matrix1 in combined_avg.items():\n",
    "    for digit2, matrix2 in combined_avg.items():\n",
    "        dist_comp.at[digit1, digit2] = np.linalg.norm(matrix1 - matrix2)\n",
    "\n",
    "dist_comp"
   ],
   "id": "901a6ddd52f5e0a1",
   "outputs": [
    {
     "data": {
      "text/plain": [
       "           0          1          2          3          4         5          6  \\\n",
       "0        0.0  14.449608   9.334556   9.143734  10.769844  7.519296   8.154443   \n",
       "1  14.449608        0.0  10.125323  11.733233  10.173786   11.1188    10.6147   \n",
       "2   9.334556  10.125323        0.0   8.178285   7.932541  7.906796   7.331808   \n",
       "3   9.143734  11.733233   8.178285        0.0   9.087608   6.11875   9.302065   \n",
       "4  10.769844  10.173786   7.932541   9.087608        0.0  8.001517   8.782233   \n",
       "5   7.519296    11.1188   7.906796    6.11875   8.001517       0.0   6.698692   \n",
       "6   8.154443    10.6147   7.331808   9.302065   8.782233  6.698692        0.0   \n",
       "7  11.864555  10.743154   8.872531   8.922401   7.583012  9.211954  10.888237   \n",
       "8   9.907902  10.086777   7.077516   7.020425   7.380909  6.967386   8.587222   \n",
       "9  11.488875   9.932094   8.887748    8.35435   6.010408  8.258538  10.440004   \n",
       "\n",
       "           7          8          9  \n",
       "0  11.864555   9.907902  11.488875  \n",
       "1  10.743154  10.086777   9.932094  \n",
       "2   8.872531   7.077516   8.887748  \n",
       "3   8.922401   7.020425    8.35435  \n",
       "4   7.583012   7.380909   6.010408  \n",
       "5   9.211954   6.967386   8.258538  \n",
       "6  10.888237   8.587222  10.440004  \n",
       "7        0.0   8.467785   5.426474  \n",
       "8   8.467785        0.0   6.401166  \n",
       "9   5.426474   6.401166        0.0  "
      ],
      "text/html": [
       "<div>\n",
       "<style scoped>\n",
       "    .dataframe tbody tr th:only-of-type {\n",
       "        vertical-align: middle;\n",
       "    }\n",
       "\n",
       "    .dataframe tbody tr th {\n",
       "        vertical-align: top;\n",
       "    }\n",
       "\n",
       "    .dataframe thead th {\n",
       "        text-align: right;\n",
       "    }\n",
       "</style>\n",
       "<table border=\"1\" class=\"dataframe\">\n",
       "  <thead>\n",
       "    <tr style=\"text-align: right;\">\n",
       "      <th></th>\n",
       "      <th>0</th>\n",
       "      <th>1</th>\n",
       "      <th>2</th>\n",
       "      <th>3</th>\n",
       "      <th>4</th>\n",
       "      <th>5</th>\n",
       "      <th>6</th>\n",
       "      <th>7</th>\n",
       "      <th>8</th>\n",
       "      <th>9</th>\n",
       "    </tr>\n",
       "  </thead>\n",
       "  <tbody>\n",
       "    <tr>\n",
       "      <th>0</th>\n",
       "      <td>0.0</td>\n",
       "      <td>14.449608</td>\n",
       "      <td>9.334556</td>\n",
       "      <td>9.143734</td>\n",
       "      <td>10.769844</td>\n",
       "      <td>7.519296</td>\n",
       "      <td>8.154443</td>\n",
       "      <td>11.864555</td>\n",
       "      <td>9.907902</td>\n",
       "      <td>11.488875</td>\n",
       "    </tr>\n",
       "    <tr>\n",
       "      <th>1</th>\n",
       "      <td>14.449608</td>\n",
       "      <td>0.0</td>\n",
       "      <td>10.125323</td>\n",
       "      <td>11.733233</td>\n",
       "      <td>10.173786</td>\n",
       "      <td>11.1188</td>\n",
       "      <td>10.6147</td>\n",
       "      <td>10.743154</td>\n",
       "      <td>10.086777</td>\n",
       "      <td>9.932094</td>\n",
       "    </tr>\n",
       "    <tr>\n",
       "      <th>2</th>\n",
       "      <td>9.334556</td>\n",
       "      <td>10.125323</td>\n",
       "      <td>0.0</td>\n",
       "      <td>8.178285</td>\n",
       "      <td>7.932541</td>\n",
       "      <td>7.906796</td>\n",
       "      <td>7.331808</td>\n",
       "      <td>8.872531</td>\n",
       "      <td>7.077516</td>\n",
       "      <td>8.887748</td>\n",
       "    </tr>\n",
       "    <tr>\n",
       "      <th>3</th>\n",
       "      <td>9.143734</td>\n",
       "      <td>11.733233</td>\n",
       "      <td>8.178285</td>\n",
       "      <td>0.0</td>\n",
       "      <td>9.087608</td>\n",
       "      <td>6.11875</td>\n",
       "      <td>9.302065</td>\n",
       "      <td>8.922401</td>\n",
       "      <td>7.020425</td>\n",
       "      <td>8.35435</td>\n",
       "    </tr>\n",
       "    <tr>\n",
       "      <th>4</th>\n",
       "      <td>10.769844</td>\n",
       "      <td>10.173786</td>\n",
       "      <td>7.932541</td>\n",
       "      <td>9.087608</td>\n",
       "      <td>0.0</td>\n",
       "      <td>8.001517</td>\n",
       "      <td>8.782233</td>\n",
       "      <td>7.583012</td>\n",
       "      <td>7.380909</td>\n",
       "      <td>6.010408</td>\n",
       "    </tr>\n",
       "    <tr>\n",
       "      <th>5</th>\n",
       "      <td>7.519296</td>\n",
       "      <td>11.1188</td>\n",
       "      <td>7.906796</td>\n",
       "      <td>6.11875</td>\n",
       "      <td>8.001517</td>\n",
       "      <td>0.0</td>\n",
       "      <td>6.698692</td>\n",
       "      <td>9.211954</td>\n",
       "      <td>6.967386</td>\n",
       "      <td>8.258538</td>\n",
       "    </tr>\n",
       "    <tr>\n",
       "      <th>6</th>\n",
       "      <td>8.154443</td>\n",
       "      <td>10.6147</td>\n",
       "      <td>7.331808</td>\n",
       "      <td>9.302065</td>\n",
       "      <td>8.782233</td>\n",
       "      <td>6.698692</td>\n",
       "      <td>0.0</td>\n",
       "      <td>10.888237</td>\n",
       "      <td>8.587222</td>\n",
       "      <td>10.440004</td>\n",
       "    </tr>\n",
       "    <tr>\n",
       "      <th>7</th>\n",
       "      <td>11.864555</td>\n",
       "      <td>10.743154</td>\n",
       "      <td>8.872531</td>\n",
       "      <td>8.922401</td>\n",
       "      <td>7.583012</td>\n",
       "      <td>9.211954</td>\n",
       "      <td>10.888237</td>\n",
       "      <td>0.0</td>\n",
       "      <td>8.467785</td>\n",
       "      <td>5.426474</td>\n",
       "    </tr>\n",
       "    <tr>\n",
       "      <th>8</th>\n",
       "      <td>9.907902</td>\n",
       "      <td>10.086777</td>\n",
       "      <td>7.077516</td>\n",
       "      <td>7.020425</td>\n",
       "      <td>7.380909</td>\n",
       "      <td>6.967386</td>\n",
       "      <td>8.587222</td>\n",
       "      <td>8.467785</td>\n",
       "      <td>0.0</td>\n",
       "      <td>6.401166</td>\n",
       "    </tr>\n",
       "    <tr>\n",
       "      <th>9</th>\n",
       "      <td>11.488875</td>\n",
       "      <td>9.932094</td>\n",
       "      <td>8.887748</td>\n",
       "      <td>8.35435</td>\n",
       "      <td>6.010408</td>\n",
       "      <td>8.258538</td>\n",
       "      <td>10.440004</td>\n",
       "      <td>5.426474</td>\n",
       "      <td>6.401166</td>\n",
       "      <td>0.0</td>\n",
       "    </tr>\n",
       "  </tbody>\n",
       "</table>\n",
       "</div>"
      ]
     },
     "execution_count": 234,
     "metadata": {},
     "output_type": "execute_result"
    }
   ],
   "execution_count": 234
  },
  {
   "metadata": {
    "ExecuteTime": {
     "end_time": "2025-09-11T09:36:46.059265Z",
     "start_time": "2025-09-11T09:36:46.031414Z"
    }
   },
   "cell_type": "code",
   "source": [
    "# Which distances are smallest (top 10)\n",
    "match_dict = dict()\n",
    "\n",
    "dist_comp[dist_comp == 0.0] = np.nan\n",
    "matches = dist_comp.idxmin(axis=0)\n",
    "distances = dist_comp.min(axis=0)\n",
    "for i, match in enumerate(matches):\n",
    "    # print(f\"{i} - {match}: {distances[i]}\")\n",
    "    match_dict[f\"{i} - {match}\"] = float(distances[i])\n",
    "\n",
    "\n",
    "match_dict = dict(sorted(match_dict.items(), key=lambda item: item[1]))\n",
    "print(\"The minimum distance between every digit and its closest neighbor\")\n",
    "for a, b in match_dict.items():\n",
    "    print(a, b)"
   ],
   "id": "533bc8e1f7c2f8e3",
   "outputs": [
    {
     "name": "stdout",
     "output_type": "stream",
     "text": [
      "The minimum distance between every digit and its closest neighbor\n",
      "7 - 9 5.426474119055888\n",
      "9 - 7 5.426474119055888\n",
      "4 - 9 6.0104079308959975\n",
      "3 - 5 6.118750020921418\n",
      "5 - 3 6.118750020921418\n",
      "8 - 9 6.40116586858544\n",
      "6 - 5 6.698691718889528\n",
      "2 - 8 7.077516177863561\n",
      "0 - 5 7.5192962595971835\n",
      "1 - 9 9.932093699343712\n"
     ]
    }
   ],
   "execution_count": 235
  },
  {
   "metadata": {
    "ExecuteTime": {
     "end_time": "2025-09-11T09:36:46.846052Z",
     "start_time": "2025-09-11T09:36:46.831646Z"
    }
   },
   "cell_type": "code",
   "source": "# The numbers that would seem the most difficult to seperate for a machine learning algorithm, would likely be the ones that are the most similar. From the table above we see that the smallest difference in euclidian distance is between numbrers 7 and 9. Therefore, we should expect these digits to be hardest to seperate on average.",
   "id": "79004029d81b6f01",
   "outputs": [],
   "execution_count": 236
  }
 ],
 "metadata": {
  "kernelspec": {
   "display_name": "Python 3",
   "language": "python",
   "name": "python3"
  },
  "language_info": {
   "codemirror_mode": {
    "name": "ipython",
    "version": 2
   },
   "file_extension": ".py",
   "mimetype": "text/x-python",
   "name": "python",
   "nbconvert_exporter": "python",
   "pygments_lexer": "ipython2",
   "version": "2.7.6"
  }
 },
 "nbformat": 4,
 "nbformat_minor": 5
}
