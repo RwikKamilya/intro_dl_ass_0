{
 "cells": [
  {
   "cell_type": "code",
   "execution_count": null,
   "id": "initial_id",
   "metadata": {
    "collapsed": true
   },
   "outputs": [],
   "source": [
    "# Assignment 0\n",
    "# Task 3"
   ]
  },
  {
   "metadata": {
    "ExecuteTime": {
     "end_time": "2025-09-11T11:03:43.369804Z",
     "start_time": "2025-09-11T11:03:43.351305Z"
    }
   },
   "cell_type": "code",
   "source": [
    "# Load packages\n",
    "\n",
    "import numpy as np\n",
    "import pandas as pd\n",
    "import math"
   ],
   "id": "5be15a8f82744d7e",
   "outputs": [],
   "execution_count": 93
  },
  {
   "metadata": {
    "ExecuteTime": {
     "end_time": "2025-09-11T11:03:44.808094Z",
     "start_time": "2025-09-11T11:03:44.662943Z"
    }
   },
   "cell_type": "code",
   "source": [
    "# Load in data\n",
    "\n",
    "train_in = pd.read_csv(\"../../data/train_in.csv\", header=None)\n",
    "test_in = pd.read_csv(\"../../data/test_in.csv\", header=None)\n",
    "train_out = pd.read_csv(\"../../data/train_out.csv\", header=None)\n",
    "test_out = pd.read_csv(\"../../data/test_out.csv\", header=None)"
   ],
   "id": "35f6095d2c82b477",
   "outputs": [],
   "execution_count": 94
  },
  {
   "metadata": {
    "ExecuteTime": {
     "end_time": "2025-09-11T11:03:45.369429Z",
     "start_time": "2025-09-11T11:03:45.341105Z"
    }
   },
   "cell_type": "code",
   "source": [
    "# Preprocess data\n",
    "\n",
    "combined = {}\n",
    "combined_avg = {}\n",
    "\n",
    "for matrix, digit in zip(train_in.values, train_out.values.ravel()):\n",
    "    combined.setdefault(digit, []).append(matrix)\n",
    "\n",
    "for digit in combined.keys():\n",
    "    average_matrix = np.array(combined[digit]).mean(axis=0)\n",
    "    df = pd.DataFrame(average_matrix.reshape(16, 16))\n",
    "    combined_avg[int(digit)] = df\n",
    "combined_avg = dict(sorted(combined_avg.items()))"
   ],
   "id": "db89d995707317ee",
   "outputs": [],
   "execution_count": 95
  },
  {
   "metadata": {
    "ExecuteTime": {
     "end_time": "2025-09-11T11:03:45.965171Z",
     "start_time": "2025-09-11T11:03:45.950548Z"
    }
   },
   "cell_type": "code",
   "source": [
    "# Measure all distances\n",
    "\n",
    "def nearest_mean_classifier(inval, outval):\n",
    "    tot = 0\n",
    "    correct = 0\n",
    "\n",
    "    for matrix, digit in zip(inval.values, outval.values.ravel()):\n",
    "        matrix = pd.DataFrame(matrix.reshape(16, 16))\n",
    "        dist = math.inf\n",
    "        for avg_digit, avg_matrix in combined_avg.items():\n",
    "            new_dist = np.linalg.norm(matrix - avg_matrix)\n",
    "            if new_dist < dist:\n",
    "                dist = new_dist\n",
    "                pred = avg_digit\n",
    "        tot += 1\n",
    "        if digit == pred:\n",
    "            correct += 1\n",
    "\n",
    "    return correct*100 / tot"
   ],
   "id": "e4b66eb13668145c",
   "outputs": [],
   "execution_count": 96
  },
  {
   "metadata": {
    "ExecuteTime": {
     "end_time": "2025-09-11T11:03:49.594720Z",
     "start_time": "2025-09-11T11:03:46.469544Z"
    }
   },
   "cell_type": "code",
   "source": [
    "train_res = nearest_mean_classifier(train_in, train_out)\n",
    "test_res = nearest_mean_classifier(test_in, test_out)\n",
    "\n",
    "print(f\"Correctly classified digits (train):\\t {train_res:.2f}%\")\n",
    "print(f\"Correctly classified digits (test):\\t\\t {test_res:.2f}%\")"
   ],
   "id": "877df05937430e88",
   "outputs": [
    {
     "name": "stdout",
     "output_type": "stream",
     "text": [
      "Correctly classified digits (train):\t 86.35%\n",
      "Correctly classified digits (test):\t\t 80.40%\n"
     ]
    }
   ],
   "execution_count": 97
  }
 ],
 "metadata": {
  "kernelspec": {
   "display_name": "Python 3",
   "language": "python",
   "name": "python3"
  },
  "language_info": {
   "codemirror_mode": {
    "name": "ipython",
    "version": 2
   },
   "file_extension": ".py",
   "mimetype": "text/x-python",
   "name": "python",
   "nbconvert_exporter": "python",
   "pygments_lexer": "ipython2",
   "version": "2.7.6"
  }
 },
 "nbformat": 4,
 "nbformat_minor": 5
}
